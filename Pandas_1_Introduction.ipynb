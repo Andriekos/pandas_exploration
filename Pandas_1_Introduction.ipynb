{
 "cells": [
  {
   "cell_type": "code",
   "execution_count": 1,
   "metadata": {},
   "outputs": [],
   "source": [
    "import numpy as np\n",
    "import pandas as pd"
   ]
  },
  {
   "cell_type": "markdown",
   "metadata": {},
   "source": [
    "# pandas.Series( data, index, dtype, copy)"
   ]
  },
  {
   "cell_type": "code",
   "execution_count": 3,
   "metadata": {},
   "outputs": [
    {
     "name": "stdout",
     "output_type": "stream",
     "text": [
      "Series([], dtype: float64)\n"
     ]
    }
   ],
   "source": [
    "s = pd.Series()\n",
    "print(s)"
   ]
  },
  {
   "cell_type": "code",
   "execution_count": 4,
   "metadata": {},
   "outputs": [
    {
     "name": "stdout",
     "output_type": "stream",
     "text": [
      "0    a\n",
      "1    c\n",
      "2    e\n",
      "3    g\n",
      "4    i\n",
      "dtype: object\n"
     ]
    }
   ],
   "source": [
    "df = np.array(['a','c','e','g','i'])\n",
    "a = pd.Series(df)\n",
    "\n",
    "print(a)"
   ]
  },
  {
   "cell_type": "code",
   "execution_count": 5,
   "metadata": {},
   "outputs": [
    {
     "name": "stdout",
     "output_type": "stream",
     "text": [
      "10    a\n",
      "20    c\n",
      "30    e\n",
      "40    g\n",
      "50    i\n",
      "dtype: object\n"
     ]
    }
   ],
   "source": [
    "b = pd.Series(df, index=[10,20,30,40,50])\n",
    "\n",
    "print(b)"
   ]
  },
  {
   "cell_type": "markdown",
   "metadata": {},
   "source": [
    "# dict"
   ]
  },
  {
   "cell_type": "code",
   "execution_count": 8,
   "metadata": {},
   "outputs": [
    {
     "name": "stdout",
     "output_type": "stream",
     "text": [
      "a    10\n",
      "b    12\n",
      "c    34\n",
      "dtype: int64\n"
     ]
    }
   ],
   "source": [
    "data = {'a':10,'b':12,'c':34}\n",
    "c = pd.Series(data)\n",
    "\n",
    "print (c)"
   ]
  },
  {
   "cell_type": "code",
   "execution_count": 10,
   "metadata": {},
   "outputs": [
    {
     "name": "stdout",
     "output_type": "stream",
     "text": [
      "b    12.0\n",
      "c    34.0\n",
      "d     NaN\n",
      "a    10.0\n",
      "dtype: float64\n"
     ]
    }
   ],
   "source": [
    "d = pd.Series(data, index=['b','c','d','a'])\n",
    "\n",
    "print(d)"
   ]
  },
  {
   "cell_type": "markdown",
   "metadata": {},
   "source": [
    "# scalar"
   ]
  },
  {
   "cell_type": "code",
   "execution_count": 12,
   "metadata": {},
   "outputs": [
    {
     "name": "stdout",
     "output_type": "stream",
     "text": [
      "1     5\n",
      "23    5\n",
      "45    5\n",
      "15    5\n",
      "dtype: int64\n"
     ]
    }
   ],
   "source": [
    "e = pd.Series(5, index=[1,23,45,15])\n",
    "\n",
    "print(e)"
   ]
  },
  {
   "cell_type": "code",
   "execution_count": 35,
   "metadata": {},
   "outputs": [
    {
     "name": "stdout",
     "output_type": "stream",
     "text": [
      "CN\n",
      "US\n",
      "1    CN\n",
      "2    IN\n",
      "3    US\n",
      "dtype: object\n",
      "2    IN\n",
      "3    US\n",
      "4    ID\n",
      "dtype: object\n"
     ]
    }
   ],
   "source": [
    "x = pd.Series(['CN','IN','US','ID'],index=[1,2,3,4])\n",
    "\n",
    "print(x[1])\n",
    "\n",
    "print(x[3])\n",
    "\n",
    "print(x[:3])\n",
    "\n",
    "print(x[-3:])\n"
   ]
  },
  {
   "cell_type": "markdown",
   "metadata": {},
   "source": [
    "# pandas.DataFrame(data, index, columns, dtype,copy)"
   ]
  },
  {
   "cell_type": "code",
   "execution_count": 37,
   "metadata": {},
   "outputs": [
    {
     "name": "stdout",
     "output_type": "stream",
     "text": [
      "   0\n",
      "0  1\n",
      "1  2\n",
      "2  3\n",
      "3  4\n",
      "4  5\n"
     ]
    }
   ],
   "source": [
    "y = [1,2,3,4,5]\n",
    "\n",
    "df = pd.DataFrame(y)\n",
    "\n",
    "print(df)"
   ]
  },
  {
   "cell_type": "code",
   "execution_count": 40,
   "metadata": {},
   "outputs": [
    {
     "name": "stdout",
     "output_type": "stream",
     "text": [
      "   0\n",
      "a  1\n",
      "g  2\n",
      "m  3\n",
      "j  4\n",
      "e  5\n"
     ]
    }
   ],
   "source": [
    "z =['a','g','m','j','e']\n",
    "\n",
    "df = pd.DataFrame(y, index=z)\n",
    "\n",
    "print(df)"
   ]
  },
  {
   "cell_type": "code",
   "execution_count": 46,
   "metadata": {},
   "outputs": [
    {
     "name": "stdout",
     "output_type": "stream",
     "text": [
      "     Name  Age\n",
      "0    Jinn   10\n",
      "1  Hansen   12\n",
      "2  Clarie    9\n",
      "3    Nath   10\n"
     ]
    }
   ],
   "source": [
    "ax = [['Jinn',10],['Hansen',12],['Clarie',9],['Nath',10]]\n",
    "\n",
    "df = pd.DataFrame(ax,columns=['Name','Age'])\n",
    "\n",
    "print(df)"
   ]
  },
  {
   "cell_type": "code",
   "execution_count": 48,
   "metadata": {},
   "outputs": [
    {
     "name": "stdout",
     "output_type": "stream",
     "text": [
      "     Name   Age\n",
      "0    Jinn  10.0\n",
      "1  Hansen  12.0\n",
      "2  Clarie   9.0\n",
      "3    Nath  10.0\n"
     ]
    }
   ],
   "source": [
    "df = pd.DataFrame(ax,columns=['Name','Age'],dtype=float)\n",
    "\n",
    "print(df)"
   ]
  },
  {
   "cell_type": "code",
   "execution_count": 54,
   "metadata": {},
   "outputs": [
    {
     "name": "stdout",
     "output_type": "stream",
     "text": [
      "                 Name Nationality\n",
      "0       Alice Cambell          FR\n",
      "1  Marien Tanoejaja P          ID\n",
      "2    Louis Hansel Jr.          GB\n",
      "3        Jack O Brian          US\n",
      "4    Stuart Bloodstuf          CD\n"
     ]
    }
   ],
   "source": [
    "dicts = {'Name':['Alice Cambell','Marien Tanoejaja P','Louis Hansel Jr.','Jack O Brian','Stuart Bloodstuf'],\n",
    "    'Nationality':['FR','ID','GB','US','CD']\n",
    "}\n",
    "\n",
    "df = pd.DataFrame(dicts)\n",
    "\n",
    "print(df)"
   ]
  },
  {
   "cell_type": "code",
   "execution_count": 55,
   "metadata": {},
   "outputs": [
    {
     "name": "stdout",
     "output_type": "stream",
     "text": [
      "                         Name Nationality\n",
      "Google          Alice Cambell          FR\n",
      "Microsoft  Marien Tanoejaja P          ID\n",
      "Facebook     Louis Hansel Jr.          GB\n",
      "Amazon           Jack O Brian          US\n",
      "Tesla        Stuart Bloodstuf          CD\n"
     ]
    }
   ],
   "source": [
    "df = pd.DataFrame(dicts, index=['Google','Microsoft','Facebook','Amazon','Tesla'])\n",
    "\n",
    "print(df)"
   ]
  },
  {
   "cell_type": "code",
   "execution_count": 56,
   "metadata": {},
   "outputs": [
    {
     "name": "stdout",
     "output_type": "stream",
     "text": [
      "    a     b   c\n",
      "0  23   NaN  45\n",
      "1  34  38.0  79\n"
     ]
    }
   ],
   "source": [
    "bx = [{'a':23,'c':45},{'a':34,'b':38,'c':79}]\n",
    "\n",
    "df = pd.DataFrame(bx)\n",
    "\n",
    "print(df)"
   ]
  },
  {
   "cell_type": "code",
   "execution_count": 73,
   "metadata": {},
   "outputs": [
    {
     "name": "stdout",
     "output_type": "stream",
     "text": [
      "    one   two  three\n",
      "a   1.0  22.0   13.0\n",
      "b  31.0  42.0   93.0\n",
      "c  17.0  12.0   36.0\n",
      "d   NaN   NaN   83.0\n"
     ]
    }
   ],
   "source": [
    "cx = {'one': pd.Series([1,31,17],index=['a','b','c'],dtype=float),\n",
    "    'two' : pd.Series([22,42,12],index=['a','b','c']),\n",
    "    'three': pd.Series([13,93,36,83],index=['a','b','c','d'],dtype=float)\n",
    "}\n",
    "\n",
    "dfx = pd.DataFrame(cx)\n",
    "\n",
    "print(df)"
   ]
  },
  {
   "cell_type": "code",
   "execution_count": 74,
   "metadata": {},
   "outputs": [
    {
     "name": "stdout",
     "output_type": "stream",
     "text": [
      "a     1.0\n",
      "b    31.0\n",
      "c    17.0\n",
      "d     NaN\n",
      "Name: one, dtype: float64\n"
     ]
    }
   ],
   "source": [
    "print(dfx['one'])"
   ]
  },
  {
   "cell_type": "code",
   "execution_count": 71,
   "metadata": {},
   "outputs": [
    {
     "name": "stdout",
     "output_type": "stream",
     "text": [
      "{'one': a     1.0\n",
      "b    31.0\n",
      "c    17.0\n",
      "dtype: float64, 'two': a    22\n",
      "b    42\n",
      "c    12\n",
      "dtype: int64, 'three': a    13.0\n",
      "b    93.0\n",
      "c    36.0\n",
      "d    83.0\n",
      "dtype: float64}\n"
     ]
    }
   ],
   "source": [
    "cx = {'one': pd.Series([1,31,17],index=['a','b','c'],dtype=float),\n",
    "    'two' : pd.Series([22,42,12],index=['a','b','c']),\n",
    "    'three': pd.Series([13,93,36,83],index=['a','b','c','d'],dtype=float)\n",
    "}\n",
    "\n",
    "print(cx)"
   ]
  },
  {
   "cell_type": "code",
   "execution_count": 76,
   "metadata": {},
   "outputs": [
    {
     "name": "stdout",
     "output_type": "stream",
     "text": [
      "    one   two  three  four\n",
      "a   1.0  22.0   13.0  24.0\n",
      "b  31.0  42.0   93.0  40.0\n",
      "c  17.0  12.0   36.0  54.0\n",
      "d   NaN   NaN   83.0  47.0\n"
     ]
    }
   ],
   "source": [
    "dfx['four'] = pd.Series([24,40,54,47],index=['a','b','c','d'],dtype=float)\n",
    "\n",
    "print(dfx)"
   ]
  },
  {
   "cell_type": "code",
   "execution_count": 77,
   "metadata": {},
   "outputs": [
    {
     "name": "stdout",
     "output_type": "stream",
     "text": [
      "    one   two  three  four    mix\n",
      "a   1.0  22.0   13.0  24.0   14.0\n",
      "b  31.0  42.0   93.0  40.0  124.0\n",
      "c  17.0  12.0   36.0  54.0   53.0\n",
      "d   NaN   NaN   83.0  47.0    NaN\n"
     ]
    }
   ],
   "source": [
    "dfx['mix'] = dfx['one'] + dfx['three']\n",
    "\n",
    "print(dfx)"
   ]
  },
  {
   "cell_type": "code",
   "execution_count": 78,
   "metadata": {},
   "outputs": [
    {
     "name": "stdout",
     "output_type": "stream",
     "text": [
      "    one   two  three  four\n",
      "a   1.0  22.0   13.0  24.0\n",
      "b  31.0  42.0   93.0  40.0\n",
      "c  17.0  12.0   36.0  54.0\n",
      "d   NaN   NaN   83.0  47.0\n",
      "    one   two  three\n",
      "a   1.0  22.0   13.0\n",
      "b  31.0  42.0   93.0\n",
      "c  17.0  12.0   36.0\n",
      "d   NaN   NaN   83.0\n"
     ]
    }
   ],
   "source": [
    "del dfx['mix']\n",
    "print(dfx)\n",
    "\n",
    "dfx.pop('four')\n",
    "print(dfx)"
   ]
  },
  {
   "cell_type": "code",
   "execution_count": 79,
   "metadata": {},
   "outputs": [
    {
     "name": "stdout",
     "output_type": "stream",
     "text": [
      "    one   two  three\n",
      "a   1.0  22.0   13.0\n",
      "b  31.0  42.0   93.0\n",
      "c  17.0  12.0   36.0\n",
      "d   NaN   NaN   83.0\n"
     ]
    }
   ],
   "source": [
    "print(dfx)"
   ]
  },
  {
   "cell_type": "code",
   "execution_count": 81,
   "metadata": {},
   "outputs": [
    {
     "name": "stdout",
     "output_type": "stream",
     "text": [
      "one      17.0\n",
      "two      12.0\n",
      "three    36.0\n",
      "Name: c, dtype: float64\n"
     ]
    }
   ],
   "source": [
    "print(dfx.loc['c'])"
   ]
  },
  {
   "cell_type": "code",
   "execution_count": 82,
   "metadata": {},
   "outputs": [
    {
     "name": "stdout",
     "output_type": "stream",
     "text": [
      "one      17.0\n",
      "two      12.0\n",
      "three    36.0\n",
      "Name: c, dtype: float64\n"
     ]
    }
   ],
   "source": [
    "print(dfx.iloc[2])"
   ]
  },
  {
   "cell_type": "code",
   "execution_count": 83,
   "metadata": {},
   "outputs": [
    {
     "name": "stdout",
     "output_type": "stream",
     "text": [
      "    one   two  three\n",
      "a   1.0  22.0   13.0\n",
      "b  31.0  42.0   93.0\n"
     ]
    }
   ],
   "source": [
    "print(dfx[:2])"
   ]
  },
  {
   "cell_type": "code",
   "execution_count": 86,
   "metadata": {},
   "outputs": [
    {
     "name": "stdout",
     "output_type": "stream",
     "text": [
      "   X  Y\n",
      "a  1  2\n",
      "b  5  6\n",
      "a  3  4\n",
      "b  7  8\n"
     ]
    }
   ],
   "source": [
    "d1 = pd.DataFrame([[1,2],[5,6]],index=['a','b'],columns=['X','Y'])\n",
    "d2 = pd.DataFrame([[3,4],[7,8]],index=['a','b'],columns=['X','Y'])\n",
    "\n",
    "df = d1.append(d2)\n",
    "\n",
    "print(df)"
   ]
  },
  {
   "cell_type": "code",
   "execution_count": 87,
   "metadata": {},
   "outputs": [
    {
     "name": "stdout",
     "output_type": "stream",
     "text": [
      "   X  Y\n",
      "b  5  6\n",
      "b  7  8\n"
     ]
    }
   ],
   "source": [
    "df = df.drop('a')\n",
    "\n",
    "print(df)"
   ]
  },
  {
   "cell_type": "code",
   "execution_count": null,
   "metadata": {},
   "outputs": [],
   "source": []
  }
 ],
 "metadata": {
  "kernelspec": {
   "display_name": "Python 3",
   "language": "python",
   "name": "python3"
  },
  "language_info": {
   "codemirror_mode": {
    "name": "ipython",
    "version": 3
   },
   "file_extension": ".py",
   "mimetype": "text/x-python",
   "name": "python",
   "nbconvert_exporter": "python",
   "pygments_lexer": "ipython3",
   "version": "3.7.3"
  }
 },
 "nbformat": 4,
 "nbformat_minor": 2
}
